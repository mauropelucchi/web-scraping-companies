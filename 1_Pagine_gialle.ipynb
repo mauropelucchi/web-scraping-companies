{
  "nbformat": 4,
  "nbformat_minor": 0,
  "metadata": {
    "colab": {
      "name": "1_Web_Scraping_with_Selenium.ipynb",
      "provenance": [],
      "collapsed_sections": [],
      "toc_visible": true
    },
    "kernelspec": {
      "name": "python3",
      "display_name": "Python 3"
    }
  },
  "cells": [
    {
      "cell_type": "markdown",
      "metadata": {
        "id": "VYfg3I_fSt6e"
      },
      "source": [
        "# WebScraping with Selenium\n",
        "\n",
        "This notebook shows how use selenium to scrape data from an e-commerce web site.\n",
        "The scope is only to understand the capabilities of web scraping and prepare a dataset for academic purporse.\n",
        "\n",
        "Let’s begin writing our scraper!\n",
        "\n",
        "We will first install important modules and packages for our Notebook\n",
        "\n",
        "\n",
        "*   Selenium\n",
        "*   Chromium-chromedriver\n",
        "\n"
      ]
    },
    {
      "cell_type": "code",
      "metadata": {
        "id": "6E11q1711nmO",
        "colab": {
          "base_uri": "https://localhost:8080/"
        },
        "outputId": "f08497e1-6266-40c0-b7d0-25359faed9fe"
      },
      "source": [
        "!pip install selenium\n",
        "!apt-get update\n",
        "!apt install chromium-chromedriver\n",
        "!cp /usr/lib/chromium-browser/chromedriver /usr/bin"
      ],
      "execution_count": 2,
      "outputs": [
        {
          "output_type": "stream",
          "text": [
            "Collecting selenium\n",
            "\u001b[?25l  Downloading https://files.pythonhosted.org/packages/80/d6/4294f0b4bce4de0abf13e17190289f9d0613b0a44e5dd6a7f5ca98459853/selenium-3.141.0-py2.py3-none-any.whl (904kB)\n",
            "\r\u001b[K     |▍                               | 10kB 13.6MB/s eta 0:00:01\r\u001b[K     |▊                               | 20kB 18.7MB/s eta 0:00:01\r\u001b[K     |█                               | 30kB 10.5MB/s eta 0:00:01\r\u001b[K     |█▌                              | 40kB 9.7MB/s eta 0:00:01\r\u001b[K     |█▉                              | 51kB 8.1MB/s eta 0:00:01\r\u001b[K     |██▏                             | 61kB 9.4MB/s eta 0:00:01\r\u001b[K     |██▌                             | 71kB 7.8MB/s eta 0:00:01\r\u001b[K     |███                             | 81kB 8.1MB/s eta 0:00:01\r\u001b[K     |███▎                            | 92kB 8.8MB/s eta 0:00:01\r\u001b[K     |███▋                            | 102kB 9.1MB/s eta 0:00:01\r\u001b[K     |████                            | 112kB 9.1MB/s eta 0:00:01\r\u001b[K     |████▍                           | 122kB 9.1MB/s eta 0:00:01\r\u001b[K     |████▊                           | 133kB 9.1MB/s eta 0:00:01\r\u001b[K     |█████                           | 143kB 9.1MB/s eta 0:00:01\r\u001b[K     |█████▍                          | 153kB 9.1MB/s eta 0:00:01\r\u001b[K     |█████▉                          | 163kB 9.1MB/s eta 0:00:01\r\u001b[K     |██████▏                         | 174kB 9.1MB/s eta 0:00:01\r\u001b[K     |██████▌                         | 184kB 9.1MB/s eta 0:00:01\r\u001b[K     |██████▉                         | 194kB 9.1MB/s eta 0:00:01\r\u001b[K     |███████▎                        | 204kB 9.1MB/s eta 0:00:01\r\u001b[K     |███████▋                        | 215kB 9.1MB/s eta 0:00:01\r\u001b[K     |████████                        | 225kB 9.1MB/s eta 0:00:01\r\u001b[K     |████████▎                       | 235kB 9.1MB/s eta 0:00:01\r\u001b[K     |████████▊                       | 245kB 9.1MB/s eta 0:00:01\r\u001b[K     |█████████                       | 256kB 9.1MB/s eta 0:00:01\r\u001b[K     |█████████▍                      | 266kB 9.1MB/s eta 0:00:01\r\u001b[K     |█████████▉                      | 276kB 9.1MB/s eta 0:00:01\r\u001b[K     |██████████▏                     | 286kB 9.1MB/s eta 0:00:01\r\u001b[K     |██████████▌                     | 296kB 9.1MB/s eta 0:00:01\r\u001b[K     |██████████▉                     | 307kB 9.1MB/s eta 0:00:01\r\u001b[K     |███████████▎                    | 317kB 9.1MB/s eta 0:00:01\r\u001b[K     |███████████▋                    | 327kB 9.1MB/s eta 0:00:01\r\u001b[K     |████████████                    | 337kB 9.1MB/s eta 0:00:01\r\u001b[K     |████████████▎                   | 348kB 9.1MB/s eta 0:00:01\r\u001b[K     |████████████▊                   | 358kB 9.1MB/s eta 0:00:01\r\u001b[K     |█████████████                   | 368kB 9.1MB/s eta 0:00:01\r\u001b[K     |█████████████▍                  | 378kB 9.1MB/s eta 0:00:01\r\u001b[K     |█████████████▊                  | 389kB 9.1MB/s eta 0:00:01\r\u001b[K     |██████████████▏                 | 399kB 9.1MB/s eta 0:00:01\r\u001b[K     |██████████████▌                 | 409kB 9.1MB/s eta 0:00:01\r\u001b[K     |██████████████▉                 | 419kB 9.1MB/s eta 0:00:01\r\u001b[K     |███████████████▏                | 430kB 9.1MB/s eta 0:00:01\r\u001b[K     |███████████████▋                | 440kB 9.1MB/s eta 0:00:01\r\u001b[K     |████████████████                | 450kB 9.1MB/s eta 0:00:01\r\u001b[K     |████████████████▎               | 460kB 9.1MB/s eta 0:00:01\r\u001b[K     |████████████████▋               | 471kB 9.1MB/s eta 0:00:01\r\u001b[K     |█████████████████               | 481kB 9.1MB/s eta 0:00:01\r\u001b[K     |█████████████████▍              | 491kB 9.1MB/s eta 0:00:01\r\u001b[K     |█████████████████▊              | 501kB 9.1MB/s eta 0:00:01\r\u001b[K     |██████████████████▏             | 512kB 9.1MB/s eta 0:00:01\r\u001b[K     |██████████████████▌             | 522kB 9.1MB/s eta 0:00:01\r\u001b[K     |██████████████████▉             | 532kB 9.1MB/s eta 0:00:01\r\u001b[K     |███████████████████▏            | 542kB 9.1MB/s eta 0:00:01\r\u001b[K     |███████████████████▋            | 552kB 9.1MB/s eta 0:00:01\r\u001b[K     |████████████████████            | 563kB 9.1MB/s eta 0:00:01\r\u001b[K     |████████████████████▎           | 573kB 9.1MB/s eta 0:00:01\r\u001b[K     |████████████████████▋           | 583kB 9.1MB/s eta 0:00:01\r\u001b[K     |█████████████████████           | 593kB 9.1MB/s eta 0:00:01\r\u001b[K     |█████████████████████▍          | 604kB 9.1MB/s eta 0:00:01\r\u001b[K     |█████████████████████▊          | 614kB 9.1MB/s eta 0:00:01\r\u001b[K     |██████████████████████          | 624kB 9.1MB/s eta 0:00:01\r\u001b[K     |██████████████████████▌         | 634kB 9.1MB/s eta 0:00:01\r\u001b[K     |██████████████████████▉         | 645kB 9.1MB/s eta 0:00:01\r\u001b[K     |███████████████████████▏        | 655kB 9.1MB/s eta 0:00:01\r\u001b[K     |███████████████████████▌        | 665kB 9.1MB/s eta 0:00:01\r\u001b[K     |████████████████████████        | 675kB 9.1MB/s eta 0:00:01\r\u001b[K     |████████████████████████▎       | 686kB 9.1MB/s eta 0:00:01\r\u001b[K     |████████████████████████▋       | 696kB 9.1MB/s eta 0:00:01\r\u001b[K     |█████████████████████████       | 706kB 9.1MB/s eta 0:00:01\r\u001b[K     |█████████████████████████▍      | 716kB 9.1MB/s eta 0:00:01\r\u001b[K     |█████████████████████████▊      | 727kB 9.1MB/s eta 0:00:01\r\u001b[K     |██████████████████████████      | 737kB 9.1MB/s eta 0:00:01\r\u001b[K     |██████████████████████████▍     | 747kB 9.1MB/s eta 0:00:01\r\u001b[K     |██████████████████████████▉     | 757kB 9.1MB/s eta 0:00:01\r\u001b[K     |███████████████████████████▏    | 768kB 9.1MB/s eta 0:00:01\r\u001b[K     |███████████████████████████▌    | 778kB 9.1MB/s eta 0:00:01\r\u001b[K     |████████████████████████████    | 788kB 9.1MB/s eta 0:00:01\r\u001b[K     |████████████████████████████▎   | 798kB 9.1MB/s eta 0:00:01\r\u001b[K     |████████████████████████████▋   | 808kB 9.1MB/s eta 0:00:01\r\u001b[K     |█████████████████████████████   | 819kB 9.1MB/s eta 0:00:01\r\u001b[K     |█████████████████████████████▍  | 829kB 9.1MB/s eta 0:00:01\r\u001b[K     |█████████████████████████████▊  | 839kB 9.1MB/s eta 0:00:01\r\u001b[K     |██████████████████████████████  | 849kB 9.1MB/s eta 0:00:01\r\u001b[K     |██████████████████████████████▍ | 860kB 9.1MB/s eta 0:00:01\r\u001b[K     |██████████████████████████████▉ | 870kB 9.1MB/s eta 0:00:01\r\u001b[K     |███████████████████████████████▏| 880kB 9.1MB/s eta 0:00:01\r\u001b[K     |███████████████████████████████▌| 890kB 9.1MB/s eta 0:00:01\r\u001b[K     |███████████████████████████████▉| 901kB 9.1MB/s eta 0:00:01\r\u001b[K     |████████████████████████████████| 911kB 9.1MB/s \n",
            "\u001b[?25hRequirement already satisfied: urllib3 in /usr/local/lib/python3.6/dist-packages (from selenium) (1.24.3)\n",
            "Installing collected packages: selenium\n",
            "Successfully installed selenium-3.141.0\n",
            "Get:1 https://cloud.r-project.org/bin/linux/ubuntu bionic-cran40/ InRelease [3,626 B]\n",
            "Ign:2 https://developer.download.nvidia.com/compute/cuda/repos/ubuntu1804/x86_64  InRelease\n",
            "Ign:3 https://developer.download.nvidia.com/compute/machine-learning/repos/ubuntu1804/x86_64  InRelease\n",
            "Get:4 https://developer.download.nvidia.com/compute/cuda/repos/ubuntu1804/x86_64  Release [697 B]\n",
            "Hit:5 https://developer.download.nvidia.com/compute/machine-learning/repos/ubuntu1804/x86_64  Release\n",
            "Get:6 https://developer.download.nvidia.com/compute/cuda/repos/ubuntu1804/x86_64  Release.gpg [836 B]\n",
            "Get:7 http://ppa.launchpad.net/c2d4u.team/c2d4u4.0+/ubuntu bionic InRelease [15.9 kB]\n",
            "Hit:8 http://archive.ubuntu.com/ubuntu bionic InRelease\n",
            "Get:9 http://security.ubuntu.com/ubuntu bionic-security InRelease [88.7 kB]\n",
            "Get:10 https://cloud.r-project.org/bin/linux/ubuntu bionic-cran40/ Packages [44.8 kB]\n",
            "Get:11 http://archive.ubuntu.com/ubuntu bionic-updates InRelease [88.7 kB]\n",
            "Hit:13 http://ppa.launchpad.net/cran/libgit2/ubuntu bionic InRelease\n",
            "Get:14 http://archive.ubuntu.com/ubuntu bionic-backports InRelease [74.6 kB]\n",
            "Ign:15 https://developer.download.nvidia.com/compute/cuda/repos/ubuntu1804/x86_64  Packages\n",
            "Get:15 https://developer.download.nvidia.com/compute/cuda/repos/ubuntu1804/x86_64  Packages [576 kB]\n",
            "Hit:16 http://ppa.launchpad.net/graphics-drivers/ppa/ubuntu bionic InRelease\n",
            "Get:17 http://ppa.launchpad.net/c2d4u.team/c2d4u4.0+/ubuntu bionic/main Sources [1,729 kB]\n",
            "Get:18 http://security.ubuntu.com/ubuntu bionic-security/universe amd64 Packages [1,391 kB]\n",
            "Get:19 http://archive.ubuntu.com/ubuntu bionic-updates/main amd64 Packages [2,358 kB]\n",
            "Get:20 http://security.ubuntu.com/ubuntu bionic-security/main amd64 Packages [1,927 kB]\n",
            "Get:21 http://ppa.launchpad.net/c2d4u.team/c2d4u4.0+/ubuntu bionic/main amd64 Packages [885 kB]\n",
            "Get:22 http://archive.ubuntu.com/ubuntu bionic-updates/universe amd64 Packages [2,162 kB]\n",
            "Fetched 11.3 MB in 4s (2,989 kB/s)\n",
            "Reading package lists... Done\n",
            "Reading package lists... Done\n",
            "Building dependency tree       \n",
            "Reading state information... Done\n",
            "The following additional packages will be installed:\n",
            "  chromium-browser chromium-browser-l10n chromium-codecs-ffmpeg-extra\n",
            "Suggested packages:\n",
            "  webaccounts-chromium-extension unity-chromium-extension adobe-flashplugin\n",
            "The following NEW packages will be installed:\n",
            "  chromium-browser chromium-browser-l10n chromium-chromedriver\n",
            "  chromium-codecs-ffmpeg-extra\n",
            "0 upgraded, 4 newly installed, 0 to remove and 26 not upgraded.\n",
            "Need to get 81.0 MB of archives.\n",
            "After this operation, 273 MB of additional disk space will be used.\n",
            "Get:1 http://archive.ubuntu.com/ubuntu bionic-updates/universe amd64 chromium-codecs-ffmpeg-extra amd64 87.0.4280.66-0ubuntu0.18.04.1 [1,122 kB]\n",
            "Get:2 http://archive.ubuntu.com/ubuntu bionic-updates/universe amd64 chromium-browser amd64 87.0.4280.66-0ubuntu0.18.04.1 [71.7 MB]\n",
            "Get:3 http://archive.ubuntu.com/ubuntu bionic-updates/universe amd64 chromium-browser-l10n all 87.0.4280.66-0ubuntu0.18.04.1 [3,716 kB]\n",
            "Get:4 http://archive.ubuntu.com/ubuntu bionic-updates/universe amd64 chromium-chromedriver amd64 87.0.4280.66-0ubuntu0.18.04.1 [4,488 kB]\n",
            "Fetched 81.0 MB in 5s (15.5 MB/s)\n",
            "Selecting previously unselected package chromium-codecs-ffmpeg-extra.\n",
            "(Reading database ... 146442 files and directories currently installed.)\n",
            "Preparing to unpack .../chromium-codecs-ffmpeg-extra_87.0.4280.66-0ubuntu0.18.04.1_amd64.deb ...\n",
            "Unpacking chromium-codecs-ffmpeg-extra (87.0.4280.66-0ubuntu0.18.04.1) ...\n",
            "Selecting previously unselected package chromium-browser.\n",
            "Preparing to unpack .../chromium-browser_87.0.4280.66-0ubuntu0.18.04.1_amd64.deb ...\n",
            "Unpacking chromium-browser (87.0.4280.66-0ubuntu0.18.04.1) ...\n",
            "Selecting previously unselected package chromium-browser-l10n.\n",
            "Preparing to unpack .../chromium-browser-l10n_87.0.4280.66-0ubuntu0.18.04.1_all.deb ...\n",
            "Unpacking chromium-browser-l10n (87.0.4280.66-0ubuntu0.18.04.1) ...\n",
            "Selecting previously unselected package chromium-chromedriver.\n",
            "Preparing to unpack .../chromium-chromedriver_87.0.4280.66-0ubuntu0.18.04.1_amd64.deb ...\n",
            "Unpacking chromium-chromedriver (87.0.4280.66-0ubuntu0.18.04.1) ...\n",
            "Setting up chromium-codecs-ffmpeg-extra (87.0.4280.66-0ubuntu0.18.04.1) ...\n",
            "Setting up chromium-browser (87.0.4280.66-0ubuntu0.18.04.1) ...\n",
            "update-alternatives: using /usr/bin/chromium-browser to provide /usr/bin/x-www-browser (x-www-browser) in auto mode\n",
            "update-alternatives: using /usr/bin/chromium-browser to provide /usr/bin/gnome-www-browser (gnome-www-browser) in auto mode\n",
            "Setting up chromium-chromedriver (87.0.4280.66-0ubuntu0.18.04.1) ...\n",
            "Setting up chromium-browser-l10n (87.0.4280.66-0ubuntu0.18.04.1) ...\n",
            "Processing triggers for hicolor-icon-theme (0.17-2) ...\n",
            "Processing triggers for mime-support (3.60ubuntu1) ...\n",
            "Processing triggers for man-db (2.8.3-2ubuntu0.1) ...\n",
            "cp: '/usr/lib/chromium-browser/chromedriver' and '/usr/bin/chromedriver' are the same file\n"
          ],
          "name": "stdout"
        }
      ]
    },
    {
      "cell_type": "markdown",
      "metadata": {
        "id": "kuhZcDh4UHYp"
      },
      "source": [
        "And now we will import some modules on our Notebook\n",
        "\n",
        "\n",
        "1.   sys: to setup the path of chrome driver\n",
        "2.   selenium: to emulate the user behaviour\n",
        "3.   pandas: to work with data\n",
        "4.   tqdm: to show a progress bar in our notebook\n",
        "5.   json: to work with json format\n",
        "\n",
        "\n",
        "\n"
      ]
    },
    {
      "cell_type": "code",
      "metadata": {
        "id": "YRt5yEXxA-jW"
      },
      "source": [
        "import sys\n",
        "sys.path.insert(0,'/usr/lib/chromium-browser/chromedriver')\n",
        "from selenium import webdriver\n",
        "from tqdm import tqdm_notebook as tqdm\n",
        "import pandas\n",
        "import json\n",
        "import pprint"
      ],
      "execution_count": 35,
      "outputs": []
    },
    {
      "cell_type": "markdown",
      "metadata": {
        "id": "ksyefP35VQc2"
      },
      "source": [
        "First we need to set the options for the ghost browser.\n",
        "The most important is `--headless` because we are in a \"cloud\" ntotebook. In our local notebook we can remove the `--headless` option.  \n"
      ]
    },
    {
      "cell_type": "code",
      "metadata": {
        "id": "DTfvdy_gBCBU"
      },
      "source": [
        "chrome_options = webdriver.ChromeOptions()\n",
        "chrome_options.add_argument('--headless')\n",
        "chrome_options.add_argument('--no-sandbox')\n",
        "chrome_options.add_argument('--disable-dev-shm-usage')\n",
        "chrome_options.add_argument(\"window-size=1900,800\")\n",
        "chrome_options.add_argument(\"--enable-javascript\")\n",
        "chrome_options.add_argument(\"user-agent=Mozilla/5.0 (Windows NT 10.0; Win64; x64) AppleWebKit/537.36 (KHTML, like Gecko) Chrome/88.0.4324.150 Safari/537.36\")"
      ],
      "execution_count": 36,
      "outputs": []
    },
    {
      "cell_type": "markdown",
      "metadata": {
        "id": "0DpumOn7VoFw"
      },
      "source": [
        "`webdriver` is the most importa object in Selenium.\n",
        "With `webdriver` we can start the phantom browser, emulate the user navigation and scrape our data. \n",
        "\n",
        "Let’s now create a new instance of google chrome.\n",
        "\n",
        "\n",
        "We will navitage to page by a `get` request. With http we can do a get or a post (or others but they are not important for us): https://www.w3schools.com/tags/ref_httpmethods.asp \n",
        "\n",
        "\n",
        "\n",
        "```\n",
        "wd.get(\"https://www.crunchbase.com/discover/organization.companies\")\n",
        "```\n",
        "\n"
      ]
    },
    {
      "cell_type": "code",
      "metadata": {
        "id": "D6MLvqs9BIzI",
        "colab": {
          "base_uri": "https://localhost:8080/"
        },
        "outputId": "007ee493-b507-4a37-9be3-4168e2c32dd0"
      },
      "source": [
        "wd = webdriver.Chrome('chromedriver',chrome_options=chrome_options)\n",
        "wd.get(\"http://startup.registroimprese.it/isin/search?0\")"
      ],
      "execution_count": 37,
      "outputs": [
        {
          "output_type": "stream",
          "text": [
            "/usr/local/lib/python3.6/dist-packages/ipykernel_launcher.py:1: DeprecationWarning: use options instead of chrome_options\n",
            "  \"\"\"Entry point for launching an IPython kernel.\n"
          ],
          "name": "stderr"
        }
      ]
    },
    {
      "cell_type": "markdown",
      "metadata": {
        "id": "p3Sbfud-WbV-"
      },
      "source": [
        "Take a look to the screenshot from our phantom browser.\n",
        "\n",
        "Note:\n",
        "- la language and the locale: It is en_US!\n",
        "- the screen ration: is it the same of our notebook?"
      ]
    },
    {
      "cell_type": "code",
      "metadata": {
        "id": "iBCZSC4dWfKW",
        "colab": {
          "base_uri": "https://localhost:8080/",
          "height": 208
        },
        "outputId": "4b4be79c-edbf-46d5-ec5f-eb4f74db4def"
      },
      "source": [
        "wd.save_screenshot('screenshot.png')\n",
        "\n",
        "%pylab inline\n",
        "import matplotlib.pyplot as plt\n",
        "import matplotlib.image as mpimg\n",
        "img=mpimg.imread('/content/screenshot.png')\n",
        "imgplot = plt.imshow(img)\n",
        "plt.show()"
      ],
      "execution_count": 6,
      "outputs": [
        {
          "output_type": "stream",
          "text": [
            "Populating the interactive namespace from numpy and matplotlib\n"
          ],
          "name": "stdout"
        },
        {
          "output_type": "display_data",
          "data": {
            "image/png": "[encoded data removed]",
            "text/plain": [
              "<Figure size 432x288 with 1 Axes>"
            ]
          },
          "metadata": {
            "tags": [],
            "needs_background": "light"
          }
        }
      ]
    },
    {
      "cell_type": "markdown",
      "metadata": {
        "id": "kRr2IAQsa1s_"
      },
      "source": [
        "Let's try to extract some information from the page\n",
        "\n",
        "\n",
        "\n",
        "`title` contains the title of our page.\n",
        "\n",
        "\n"
      ]
    },
    {
      "cell_type": "code",
      "metadata": {
        "id": "X033nUzra6uq",
        "colab": {
          "base_uri": "https://localhost:8080/"
        },
        "outputId": "915f5030-3c33-4f05-f5e9-8a70677e56f1"
      },
      "source": [
        "print(wd.title)"
      ],
      "execution_count": 7,
      "outputs": [
        {
          "output_type": "stream",
          "text": [
            "startup and innovative SMEs\n"
          ],
          "name": "stdout"
        }
      ]
    },
    {
      "cell_type": "markdown",
      "metadata": {
        "id": "zK7Cf_mradiL"
      },
      "source": [
        "### How do we extract the values inside a page with CSS Selector?\n",
        "\n",
        "Selenium has a method called `find_elements_by_css_selector`.\n",
        "\n",
        "We will pass our CSS Selector into this method and get a list of selenium elements. Once we have the element, we can extract the text inside it using the `text` function."
      ]
    },
    {
      "cell_type": "code",
      "metadata": {
        "id": "WFuRVKIdbWN3",
        "colab": {
          "base_uri": "https://localhost:8080/"
        },
        "outputId": "38311a40-212d-4f35-89cc-0286713200da"
      },
      "source": [
        "list_companies = wd.find_elements_by_css_selector(\"a.link\")\n",
        "print(len(list_companies))"
      ],
      "execution_count": 8,
      "outputs": [
        {
          "output_type": "stream",
          "text": [
            "10\n"
          ],
          "name": "stdout"
        }
      ]
    },
    {
      "cell_type": "code",
      "metadata": {
        "id": "cRPP5xUrbwcE",
        "colab": {
          "base_uri": "https://localhost:8080/"
        },
        "outputId": "b2e49933-99a3-4eea-adaa-71cb4a5ba67c"
      },
      "source": [
        "print(list_companies[0].text)"
      ],
      "execution_count": 9,
      "outputs": [
        {
          "output_type": "stream",
          "text": [
            "SAPORARTE S.R.L.\n"
          ],
          "name": "stdout"
        }
      ]
    },
    {
      "cell_type": "markdown",
      "metadata": {
        "id": "A1ETBqlPcQhl"
      },
      "source": [
        "# Extract the start-up list\n",
        "\n",
        "Let's begin to download the list of companies.\n",
        "\n",
        "The list of companies is defined by the css selection rule\n",
        "`div.searchCompanyCard`\n",
        "\n"
      ]
    },
    {
      "cell_type": "code",
      "metadata": {
        "id": "_V1hNO9ZcJy6",
        "colab": {
          "base_uri": "https://localhost:8080/"
        },
        "outputId": "97e09df7-5a44-4460-bc7c-640acc1fbf0d"
      },
      "source": [
        "list_companies = wd.find_elements_by_css_selector(\"div.searchCompanyCard\")\n",
        "print(len(list_companies))"
      ],
      "execution_count": 11,
      "outputs": [
        {
          "output_type": "stream",
          "text": [
            "10\n"
          ],
          "name": "stdout"
        }
      ]
    },
    {
      "cell_type": "markdown",
      "metadata": {
        "id": "k_fSFWX0cktI"
      },
      "source": [
        "Gread! We find 10 items!\n",
        "\n",
        "Now, we will extract the attribute from each single element.\n",
        "The scope is to create one dict for each item in the list with the attribute:\n",
        "\n",
        "\n",
        "1.   company name\n",
        "2.   link to the detail page\n",
        "3.   number of employees\n",
        "4.   vat code\n",
        "5.   economic sector\n",
        "6.   tags\n",
        "\n"
      ]
    },
    {
      "cell_type": "code",
      "metadata": {
        "id": "1J2xAL6qcj9-",
        "colab": {
          "base_uri": "https://localhost:8080/"
        },
        "outputId": "628b49f1-0886-410f-91f9-c5a5b54f9b0c"
      },
      "source": [
        "import pprint\n",
        "import time\n",
        "items = []\n",
        "for item in list_companies:\n",
        "    company_name = item.find_elements_by_css_selector(\"a.link\")[0].text\n",
        "    url = item.find_elements_by_css_selector(\"a\")[0].get_attribute(\"href\")\n",
        "    vat_code = item.find_elements_by_css_selector(\"div.ten\")[0].text\n",
        "    number_of_employees = item.find_elements_by_css_selector(\"div.twelve\")[3].text\n",
        "    economic_sector = item.find_elements_by_css_selector(\"div.twelve\")[1].text\n",
        "    tags = item.find_elements_by_css_selector(\"div.sixteen\")[2].text\n",
        "\n",
        "    items.append({'company_name': company_name,\n",
        "                  'url': url,\n",
        "                  'vat_code': vat_code,\n",
        "                  'number_of_employees': number_of_employees,\n",
        "                  'tags': tags,\n",
        "                  'economic_sector': economic_sector})\n",
        "\n",
        "\n",
        "pprint.pprint(items[0:5])"
      ],
      "execution_count": 25,
      "outputs": [
        {
          "output_type": "stream",
          "text": [
            "[{'company_name': 'SAPORARTE S.R.L.',\n",
            "  'economic_sector': '6201',\n",
            "  'number_of_employees': 'unavailable',\n",
            "  'tags': 'tracciabilita GestioneMagazzino etichettatura',\n",
            "  'url': 'http://www.saporarte.it/',\n",
            "  'vat_code': '05349130285'},\n",
            " {'company_name': 'DOCTORIUM S.R.L.',\n",
            "  'economic_sector': '6201',\n",
            "  'number_of_employees': 'unavailable',\n",
            "  'tags': 'MEDICALE',\n",
            "  'url': 'https://www.doctorium.it/',\n",
            "  'vat_code': '03504140793'},\n",
            " {'company_name': 'OREN S.R.L.',\n",
            "  'economic_sector': '6312',\n",
            "  'number_of_employees': 'unavailable',\n",
            "  'tags': 'Blockchain Moda',\n",
            "  'url': 'http://www.brand2store.com/',\n",
            "  'vat_code': '11326710966'},\n",
            " {'company_name': 'SAVINO SOLUTION S.R.L.',\n",
            "  'economic_sector': '6201',\n",
            "  'number_of_employees': '5-9 employees',\n",
            "  'tags': 'DIGITALIZZAZIONE dematerializzazione BLOCKCHAIN',\n",
            "  'url': 'http://www.savinosolution.com/',\n",
            "  'vat_code': '05141260652'},\n",
            " {'company_name': \"PCUP S.R.L. start-up costituita a norma dell'art. 4 comma \"\n",
            "                  '10 bis del decreto legge 24 gennaio 2015, n. 3',\n",
            "  'economic_sector': '6201',\n",
            "  'number_of_employees': '0-4 employees',\n",
            "  'tags': 'beverage IoT payments',\n",
            "  'url': 'http://pcup.it/',\n",
            "  'vat_code': '10243190963'}]\n"
          ],
          "name": "stdout"
        }
      ]
    },
    {
      "cell_type": "code",
      "metadata": {
        "id": "d0-ystf3VAY0",
        "colab": {
          "base_uri": "https://localhost:8080/"
        },
        "outputId": "81941d75-9200-453b-91cb-1e7e98fe7dd4"
      },
      "source": [
        "len(items)"
      ],
      "execution_count": null,
      "outputs": [
        {
          "output_type": "execute_result",
          "data": {
            "text/plain": [
              "24"
            ]
          },
          "metadata": {
            "tags": []
          },
          "execution_count": 12
        }
      ]
    },
    {
      "cell_type": "code",
      "metadata": {
        "id": "4Kms5IduWGgX",
        "colab": {
          "base_uri": "https://localhost:8080/"
        },
        "outputId": "3d0bb051-0f8f-45af-d6c6-45372b79e2d9"
      },
      "source": [
        "import pprint\n",
        "import time\n",
        "items = []\n",
        "page = 1\n",
        "end = False\n",
        "wd.get(\"http://startup.registroimprese.it/isin/search?0\")\n",
        "while (not end and page < 5):\n",
        "  print(f\"Get data from {page} page...\")\n",
        "  time.sleep(1)\n",
        "  list_companies = wd.find_elements_by_css_selector(\"div.searchCompanyCard\")\n",
        "  for item in list_companies:\n",
        "      company_name = item.find_elements_by_css_selector(\"a.link\")[0].text\n",
        "      print(company_name)\n",
        "      if (len(item.find_elements_by_css_selector(\"a\")) > 1):\n",
        "        url = item.find_elements_by_css_selector(\"a\")[0].get_attribute(\"href\")\n",
        "\n",
        "      vat_code = item.find_elements_by_css_selector(\"div.ten\")[0].text\n",
        "      number_of_employees = item.find_elements_by_css_selector(\"div.twelve\")[3].text\n",
        "      economic_sector = item.find_elements_by_css_selector(\"div.twelve\")[1].text\n",
        "      tags = item.find_elements_by_css_selector(\"div.sixteen\")[2].text\n",
        "\n",
        "      items.append({'company_name': company_name,\n",
        "                    'url': url,\n",
        "                    'vat_code': vat_code,\n",
        "                    'number_of_employees': number_of_employees,\n",
        "                    'tags': tags,\n",
        "                    'economic_sector': economic_sector})\n",
        "  try:\n",
        "    wd.find_elements_by_css_selector(\"i.right\")[0].click()\n",
        "    page = page + 1\n",
        "  except:\n",
        "    end = True"
      ],
      "execution_count": 38,
      "outputs": [
        {
          "output_type": "stream",
          "text": [
            "Get data from 1 page...\n",
            "SAPORARTE S.R.L.\n",
            "DOCTORIUM S.R.L.\n",
            "OREN S.R.L.\n",
            "SAVINO SOLUTION S.R.L.\n",
            "PCUP S.R.L. start-up costituita a norma dell'art. 4 comma 10 bis del decreto legge 24 gennaio 2015, n. 3\n",
            "PROBIOMICS CARE S.R.L.\n",
            "LABORATORIO DENTALE SANTA TERESA S.R.L.\n",
            "MEDICUD SRL\n",
            "R-DATA S.R.L.\n",
            "SHOP-O-RAMA S.R.L.\n",
            "Get data from 2 page...\n",
            "INNOVACARE S.R.L.\n",
            "LINEARBI S.R.L.\n",
            "HUB77 S.R.L.\n",
            "NGV POWERTRAIN S.R.L.\n",
            "WILSON S.R.L.\n",
            "AG TECHNOLOGIES & INVESTMENTS S.R.L. START-UP COSTITUITA A NORMA DELL'ART. 4 CO. 10 BIS DEL D.L. 24 GENNAIO 2015, N.3, ISCRITTA PROVVISORIAMENTE IN SEZIONE ORDINARIA, IN CORSO DI ISCRIZIONE IN SEZIONE SPECIALE\n",
            "NOVIA S.R.L.\n",
            "HEJ! S.R.L.\n",
            "IINFORMATICA S.R.L.\n",
            "HIGECO ENERGY S.R.L.\n",
            "Get data from 3 page...\n",
            "HEVOR SRL\n",
            "IMPRESA SOCIALE FORMEVER LAB SOCIETA' COOPERATIVA SOCIALE\n",
            "4. ZERO S.R.L.\n",
            "ANTICA TESSITURA VENETA S.R.L.\n",
            "3 UP S.R.L.\n",
            "STUDIO 5T S.R.L. STARTUP COSTITUITA AI SENSI DELL'ART. 4, C. 10-BIS, D.L. 3/2015 CONVERTITO CON LEGGE N. 33/2015\n",
            "TEA EVERYWHERE S.R.L.\n",
            "PIRMAN SOCIETA' A RESPONSABILITA' LIMITATA\n",
            "SPEAKART S.R.L.\n",
            "YOUXTA SOCIETA' A RESPONSABILITA' LIMITATA\n",
            "Get data from 4 page...\n",
            "BITLOGIS S.R.L.\n",
            "AB HORIZON S.R.L.\n",
            "BYEBYEQ S.R.L.S. SOCIETA' A RESPONSABILITA' LIMITATA SEMPLIFICATA\n",
            "DOGS BISTROT S.R.L.\n",
            "SMART CITY INSTRUMENTS\n",
            "FMP BIOTECHNOLOGIES S.R.L.\n",
            "TESEO - SOCIETA' A RESPONSABILITA' LIMITATA\n",
            "NOT A NUMBER S.R.L. IN LIQUIDAZIONE\n",
            "SPARKLE S.R.L.\n",
            "G5MOBILITY S.R.L. START-UP COSTITUITA A NORMA DELL'ART. 4 COMMA 10-BIS DEL DECRETO LEGGE 24 GENNAIO 2015, N. 3\n"
          ],
          "name": "stdout"
        }
      ]
    },
    {
      "cell_type": "code",
      "metadata": {
        "id": "HcSquyAFW6n8",
        "colab": {
          "base_uri": "https://localhost:8080/"
        },
        "outputId": "10473013-c4b6-4a40-f60d-89e1901da5cc"
      },
      "source": [
        "len(items)"
      ],
      "execution_count": 39,
      "outputs": [
        {
          "output_type": "execute_result",
          "data": {
            "text/plain": [
              "40"
            ]
          },
          "metadata": {
            "tags": []
          },
          "execution_count": 39
        }
      ]
    },
    {
      "cell_type": "markdown",
      "metadata": {
        "id": "TqxsicNNovfy"
      },
      "source": [
        "# Pandas and data processing\n",
        "\n",
        "**Well!**\n",
        "We're starting to see another amazing library for working with data!\n",
        "\n",
        "It's **pandas**: *Python library for data analysis*.\n",
        "\n",
        "Basically, with pandas we can manipulate a data set or a historical series in Python.\n",
        "\n",
        "For now, we start to give a couple of concepts.\n",
        "\n",
        "Pandas is based on two types of data: **Series** and **DataFrame**:\n",
        "- `Series` represents a list of data\n",
        "- `DataFrame` represent a data set in tabular format\n",
        "\n",
        "Each column of a `DataFrame` is a `Series`.\n",
        "\n",
        "We can create a `DataFrame` using the `pd.DataFrame` method by passing our dictionary as an input parameter.\n",
        "\n",
        "A `DataFrame` pandas can be easily exported in *CSV*, *Excel*, ...\n",
        "\n",
        "For more information about `Pandas` see\n",
        "\n",
        "https://pandas.pydata.org/getting_started.html\n"
      ]
    },
    {
      "cell_type": "code",
      "metadata": {
        "id": "MumFgyNypoBo",
        "colab": {
          "base_uri": "https://localhost:8080/",
          "height": 191
        },
        "outputId": "f5985136-f345-4c86-95b9-134d802ac31e"
      },
      "source": [
        "import pandas as pd\n",
        "ds_items = pd.DataFrame(items)\n",
        "ds_items.set_index(\"vat_code\")\n",
        "ds_items.head()"
      ],
      "execution_count": 40,
      "outputs": [
        {
          "output_type": "execute_result",
          "data": {
            "text/html": [
              "<div>\n",
              "<style scoped>\n",
              "    .dataframe tbody tr th:only-of-type {\n",
              "        vertical-align: middle;\n",
              "    }\n",
              "\n",
              "    .dataframe tbody tr th {\n",
              "        vertical-align: top;\n",
              "    }\n",
              "\n",
              "    .dataframe thead th {\n",
              "        text-align: right;\n",
              "    }\n",
              "</style>\n",
              "<table border=\"1\" class=\"dataframe\">\n",
              "  <thead>\n",
              "    <tr style=\"text-align: right;\">\n",
              "      <th></th>\n",
              "      <th>company_name</th>\n",
              "      <th>url</th>\n",
              "      <th>vat_code</th>\n",
              "      <th>number_of_employees</th>\n",
              "      <th>tags</th>\n",
              "      <th>economic_sector</th>\n",
              "    </tr>\n",
              "  </thead>\n",
              "  <tbody>\n",
              "    <tr>\n",
              "      <th>0</th>\n",
              "      <td>SAPORARTE S.R.L.</td>\n",
              "      <td>http://www.saporarte.it/</td>\n",
              "      <td>05349130285</td>\n",
              "      <td>unavailable</td>\n",
              "      <td>tracciabilita GestioneMagazzino etichettatura</td>\n",
              "      <td>6201</td>\n",
              "    </tr>\n",
              "    <tr>\n",
              "      <th>1</th>\n",
              "      <td>DOCTORIUM S.R.L.</td>\n",
              "      <td>https://www.doctorium.it/</td>\n",
              "      <td>03504140793</td>\n",
              "      <td>unavailable</td>\n",
              "      <td>MEDICALE</td>\n",
              "      <td>6201</td>\n",
              "    </tr>\n",
              "    <tr>\n",
              "      <th>2</th>\n",
              "      <td>OREN S.R.L.</td>\n",
              "      <td>http://www.brand2store.com/</td>\n",
              "      <td>11326710966</td>\n",
              "      <td>unavailable</td>\n",
              "      <td>Blockchain Moda</td>\n",
              "      <td>6312</td>\n",
              "    </tr>\n",
              "    <tr>\n",
              "      <th>3</th>\n",
              "      <td>SAVINO SOLUTION S.R.L.</td>\n",
              "      <td>http://www.savinosolution.com/</td>\n",
              "      <td>05141260652</td>\n",
              "      <td>5-9 employees</td>\n",
              "      <td>DIGITALIZZAZIONE dematerializzazione BLOCKCHAIN</td>\n",
              "      <td>6201</td>\n",
              "    </tr>\n",
              "    <tr>\n",
              "      <th>4</th>\n",
              "      <td>PCUP S.R.L. start-up costituita a norma dell'a...</td>\n",
              "      <td>http://pcup.it/</td>\n",
              "      <td>10243190963</td>\n",
              "      <td>0-4 employees</td>\n",
              "      <td>beverage IoT payments</td>\n",
              "      <td>6201</td>\n",
              "    </tr>\n",
              "  </tbody>\n",
              "</table>\n",
              "</div>"
            ],
            "text/plain": [
              "                                        company_name  ... economic_sector\n",
              "0                                   SAPORARTE S.R.L.  ...            6201\n",
              "1                                   DOCTORIUM S.R.L.  ...            6201\n",
              "2                                        OREN S.R.L.  ...            6312\n",
              "3                             SAVINO SOLUTION S.R.L.  ...            6201\n",
              "4  PCUP S.R.L. start-up costituita a norma dell'a...  ...            6201\n",
              "\n",
              "[5 rows x 6 columns]"
            ]
          },
          "metadata": {
            "tags": []
          },
          "execution_count": 40
        }
      ]
    },
    {
      "cell_type": "code",
      "metadata": {
        "id": "3lUw4-_BrQDh"
      },
      "source": [
        "ds_items.to_csv('ds_items.csv')"
      ],
      "execution_count": 41,
      "outputs": []
    }
  ]
}