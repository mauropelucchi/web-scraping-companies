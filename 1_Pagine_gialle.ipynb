{
  "nbformat": 4,
  "nbformat_minor": 0,
  "metadata": {
    "colab": {
      "name": "1_Pagine_gialle.ipynb",
      "provenance": [],
      "collapsed_sections": [],
      "toc_visible": true
    },
    "kernelspec": {
      "name": "python3",
      "display_name": "Python 3"
    },
    "widgets": {
      "application/vnd.jupyter.widget-state+json": {
        "007167e7bb33479aa4d9f56bb356157f": {
          "model_module": "@jupyter-widgets/controls",
          "model_name": "HBoxModel",
          "state": {
            "_view_name": "HBoxView",
            "_dom_classes": [],
            "_model_name": "HBoxModel",
            "_view_module": "@jupyter-widgets/controls",
            "_model_module_version": "1.5.0",
            "_view_count": null,
            "_view_module_version": "1.5.0",
            "box_style": "",
            "layout": "IPY_MODEL_d70fe51185e4491ea62ccf92b730b441",
            "_model_module": "@jupyter-widgets/controls",
            "children": [
              "IPY_MODEL_6553dfabf1254c7db1d7b23f374e8c3a",
              "IPY_MODEL_f11ba03dea854fa4ad8f8ba336c4e02f"
            ]
          }
        },
        "d70fe51185e4491ea62ccf92b730b441": {
          "model_module": "@jupyter-widgets/base",
          "model_name": "LayoutModel",
          "state": {
            "_view_name": "LayoutView",
            "grid_template_rows": null,
            "right": null,
            "justify_content": null,
            "_view_module": "@jupyter-widgets/base",
            "overflow": null,
            "_model_module_version": "1.2.0",
            "_view_count": null,
            "flex_flow": null,
            "width": null,
            "min_width": null,
            "border": null,
            "align_items": null,
            "bottom": null,
            "_model_module": "@jupyter-widgets/base",
            "top": null,
            "grid_column": null,
            "overflow_y": null,
            "overflow_x": null,
            "grid_auto_flow": null,
            "grid_area": null,
            "grid_template_columns": null,
            "flex": null,
            "_model_name": "LayoutModel",
            "justify_items": null,
            "grid_row": null,
            "max_height": null,
            "align_content": null,
            "visibility": null,
            "align_self": null,
            "height": null,
            "min_height": null,
            "padding": null,
            "grid_auto_rows": null,
            "grid_gap": null,
            "max_width": null,
            "order": null,
            "_view_module_version": "1.2.0",
            "grid_template_areas": null,
            "object_position": null,
            "object_fit": null,
            "grid_auto_columns": null,
            "margin": null,
            "display": null,
            "left": null
          }
        },
        "6553dfabf1254c7db1d7b23f374e8c3a": {
          "model_module": "@jupyter-widgets/controls",
          "model_name": "FloatProgressModel",
          "state": {
            "_view_name": "ProgressView",
            "style": "IPY_MODEL_da31e6b42234430d8752643d2522f1ae",
            "_dom_classes": [],
            "description": "100%",
            "_model_name": "FloatProgressModel",
            "bar_style": "success",
            "max": 300,
            "_view_module": "@jupyter-widgets/controls",
            "_model_module_version": "1.5.0",
            "value": 300,
            "_view_count": null,
            "_view_module_version": "1.5.0",
            "orientation": "horizontal",
            "min": 0,
            "description_tooltip": null,
            "_model_module": "@jupyter-widgets/controls",
            "layout": "IPY_MODEL_b5010fa144c24452bb5a700547d28cc0"
          }
        },
        "f11ba03dea854fa4ad8f8ba336c4e02f": {
          "model_module": "@jupyter-widgets/controls",
          "model_name": "HTMLModel",
          "state": {
            "_view_name": "HTMLView",
            "style": "IPY_MODEL_564bb5cb57124693a094e6a4a0f2aa5e",
            "_dom_classes": [],
            "description": "",
            "_model_name": "HTMLModel",
            "placeholder": "​",
            "_view_module": "@jupyter-widgets/controls",
            "_model_module_version": "1.5.0",
            "value": " 300/300 [15:11&lt;00:00,  3.04s/it]",
            "_view_count": null,
            "_view_module_version": "1.5.0",
            "description_tooltip": null,
            "_model_module": "@jupyter-widgets/controls",
            "layout": "IPY_MODEL_f5dca2a7c0ec43a7a0d87d50f664dd4f"
          }
        },
        "da31e6b42234430d8752643d2522f1ae": {
          "model_module": "@jupyter-widgets/controls",
          "model_name": "ProgressStyleModel",
          "state": {
            "_view_name": "StyleView",
            "_model_name": "ProgressStyleModel",
            "description_width": "initial",
            "_view_module": "@jupyter-widgets/base",
            "_model_module_version": "1.5.0",
            "_view_count": null,
            "_view_module_version": "1.2.0",
            "bar_color": null,
            "_model_module": "@jupyter-widgets/controls"
          }
        },
        "b5010fa144c24452bb5a700547d28cc0": {
          "model_module": "@jupyter-widgets/base",
          "model_name": "LayoutModel",
          "state": {
            "_view_name": "LayoutView",
            "grid_template_rows": null,
            "right": null,
            "justify_content": null,
            "_view_module": "@jupyter-widgets/base",
            "overflow": null,
            "_model_module_version": "1.2.0",
            "_view_count": null,
            "flex_flow": null,
            "width": null,
            "min_width": null,
            "border": null,
            "align_items": null,
            "bottom": null,
            "_model_module": "@jupyter-widgets/base",
            "top": null,
            "grid_column": null,
            "overflow_y": null,
            "overflow_x": null,
            "grid_auto_flow": null,
            "grid_area": null,
            "grid_template_columns": null,
            "flex": null,
            "_model_name": "LayoutModel",
            "justify_items": null,
            "grid_row": null,
            "max_height": null,
            "align_content": null,
            "visibility": null,
            "align_self": null,
            "height": null,
            "min_height": null,
            "padding": null,
            "grid_auto_rows": null,
            "grid_gap": null,
            "max_width": null,
            "order": null,
            "_view_module_version": "1.2.0",
            "grid_template_areas": null,
            "object_position": null,
            "object_fit": null,
            "grid_auto_columns": null,
            "margin": null,
            "display": null,
            "left": null
          }
        },
        "564bb5cb57124693a094e6a4a0f2aa5e": {
          "model_module": "@jupyter-widgets/controls",
          "model_name": "DescriptionStyleModel",
          "state": {
            "_view_name": "StyleView",
            "_model_name": "DescriptionStyleModel",
            "description_width": "",
            "_view_module": "@jupyter-widgets/base",
            "_model_module_version": "1.5.0",
            "_view_count": null,
            "_view_module_version": "1.2.0",
            "_model_module": "@jupyter-widgets/controls"
          }
        },
        "f5dca2a7c0ec43a7a0d87d50f664dd4f": {
          "model_module": "@jupyter-widgets/base",
          "model_name": "LayoutModel",
          "state": {
            "_view_name": "LayoutView",
            "grid_template_rows": null,
            "right": null,
            "justify_content": null,
            "_view_module": "@jupyter-widgets/base",
            "overflow": null,
            "_model_module_version": "1.2.0",
            "_view_count": null,
            "flex_flow": null,
            "width": null,
            "min_width": null,
            "border": null,
            "align_items": null,
            "bottom": null,
            "_model_module": "@jupyter-widgets/base",
            "top": null,
            "grid_column": null,
            "overflow_y": null,
            "overflow_x": null,
            "grid_auto_flow": null,
            "grid_area": null,
            "grid_template_columns": null,
            "flex": null,
            "_model_name": "LayoutModel",
            "justify_items": null,
            "grid_row": null,
            "max_height": null,
            "align_content": null,
            "visibility": null,
            "align_self": null,
            "height": null,
            "min_height": null,
            "padding": null,
            "grid_auto_rows": null,
            "grid_gap": null,
            "max_width": null,
            "order": null,
            "_view_module_version": "1.2.0",
            "grid_template_areas": null,
            "object_position": null,
            "object_fit": null,
            "grid_auto_columns": null,
            "margin": null,
            "display": null,
            "left": null
          }
        }
      }
    }
  },
  "cells": [
    {
      "cell_type": "markdown",
      "metadata": {
        "id": "VYfg3I_fSt6e"
      },
      "source": [
        "# WebScraping with Selenium\n",
        "\n",
        "This notebook shows how use selenium to scrape data from an Pagine Gialle web site.\n",
        "The scope is only to understand the capabilities of web scraping and prepare a dataset for academic purporse.\n",
        "\n",
        "Let’s begin writing our scraper!\n",
        "\n",
        "We will first install important modules and packages for our Notebook\n",
        "\n",
        "\n",
        "*   Selenium\n",
        "*   Chromium-chromedriver\n",
        "\n"
      ]
    },
    {
      "cell_type": "code",
      "metadata": {
        "id": "6E11q1711nmO",
        "colab": {
          "base_uri": "https://localhost:8080/"
        },
        "outputId": "0f98d052-995f-4374-87b2-47c37d6fcef6"
      },
      "source": [
        "!pip install selenium\n",
        "!apt-get update\n",
        "!apt install chromium-chromedriver\n",
        "!cp /usr/lib/chromium-browser/chromedriver /usr/bin"
      ],
      "execution_count": 1,
      "outputs": [
        {
          "output_type": "stream",
          "text": [
            "Collecting selenium\n",
            "\u001b[?25l  Downloading https://files.pythonhosted.org/packages/80/d6/4294f0b4bce4de0abf13e17190289f9d0613b0a44e5dd6a7f5ca98459853/selenium-3.141.0-py2.py3-none-any.whl (904kB)\n",
            "\r\u001b[K     |▍                               | 10kB 16.0MB/s eta 0:00:01\r\u001b[K     |▊                               | 20kB 13.2MB/s eta 0:00:01\r\u001b[K     |█                               | 30kB 7.5MB/s eta 0:00:01\r\u001b[K     |█▌                              | 40kB 7.9MB/s eta 0:00:01\r\u001b[K     |█▉                              | 51kB 4.6MB/s eta 0:00:01\r\u001b[K     |██▏                             | 61kB 5.3MB/s eta 0:00:01\r\u001b[K     |██▌                             | 71kB 5.5MB/s eta 0:00:01\r\u001b[K     |███                             | 81kB 6.1MB/s eta 0:00:01\r\u001b[K     |███▎                            | 92kB 5.4MB/s eta 0:00:01\r\u001b[K     |███▋                            | 102kB 5.9MB/s eta 0:00:01\r\u001b[K     |████                            | 112kB 5.9MB/s eta 0:00:01\r\u001b[K     |████▍                           | 122kB 5.9MB/s eta 0:00:01\r\u001b[K     |████▊                           | 133kB 5.9MB/s eta 0:00:01\r\u001b[K     |█████                           | 143kB 5.9MB/s eta 0:00:01\r\u001b[K     |█████▍                          | 153kB 5.9MB/s eta 0:00:01\r\u001b[K     |█████▉                          | 163kB 5.9MB/s eta 0:00:01\r\u001b[K     |██████▏                         | 174kB 5.9MB/s eta 0:00:01\r\u001b[K     |██████▌                         | 184kB 5.9MB/s eta 0:00:01\r\u001b[K     |██████▉                         | 194kB 5.9MB/s eta 0:00:01\r\u001b[K     |███████▎                        | 204kB 5.9MB/s eta 0:00:01\r\u001b[K     |███████▋                        | 215kB 5.9MB/s eta 0:00:01\r\u001b[K     |████████                        | 225kB 5.9MB/s eta 0:00:01\r\u001b[K     |████████▎                       | 235kB 5.9MB/s eta 0:00:01\r\u001b[K     |████████▊                       | 245kB 5.9MB/s eta 0:00:01\r\u001b[K     |█████████                       | 256kB 5.9MB/s eta 0:00:01\r\u001b[K     |█████████▍                      | 266kB 5.9MB/s eta 0:00:01\r\u001b[K     |█████████▉                      | 276kB 5.9MB/s eta 0:00:01\r\u001b[K     |██████████▏                     | 286kB 5.9MB/s eta 0:00:01\r\u001b[K     |██████████▌                     | 296kB 5.9MB/s eta 0:00:01\r\u001b[K     |██████████▉                     | 307kB 5.9MB/s eta 0:00:01\r\u001b[K     |███████████▎                    | 317kB 5.9MB/s eta 0:00:01\r\u001b[K     |███████████▋                    | 327kB 5.9MB/s eta 0:00:01\r\u001b[K     |████████████                    | 337kB 5.9MB/s eta 0:00:01\r\u001b[K     |████████████▎                   | 348kB 5.9MB/s eta 0:00:01\r\u001b[K     |████████████▊                   | 358kB 5.9MB/s eta 0:00:01\r\u001b[K     |█████████████                   | 368kB 5.9MB/s eta 0:00:01\r\u001b[K     |█████████████▍                  | 378kB 5.9MB/s eta 0:00:01\r\u001b[K     |█████████████▊                  | 389kB 5.9MB/s eta 0:00:01\r\u001b[K     |██████████████▏                 | 399kB 5.9MB/s eta 0:00:01\r\u001b[K     |██████████████▌                 | 409kB 5.9MB/s eta 0:00:01\r\u001b[K     |██████████████▉                 | 419kB 5.9MB/s eta 0:00:01\r\u001b[K     |███████████████▏                | 430kB 5.9MB/s eta 0:00:01\r\u001b[K     |███████████████▋                | 440kB 5.9MB/s eta 0:00:01\r\u001b[K     |████████████████                | 450kB 5.9MB/s eta 0:00:01\r\u001b[K     |████████████████▎               | 460kB 5.9MB/s eta 0:00:01\r\u001b[K     |████████████████▋               | 471kB 5.9MB/s eta 0:00:01\r\u001b[K     |█████████████████               | 481kB 5.9MB/s eta 0:00:01\r\u001b[K     |█████████████████▍              | 491kB 5.9MB/s eta 0:00:01\r\u001b[K     |█████████████████▊              | 501kB 5.9MB/s eta 0:00:01\r\u001b[K     |██████████████████▏             | 512kB 5.9MB/s eta 0:00:01\r\u001b[K     |██████████████████▌             | 522kB 5.9MB/s eta 0:00:01\r\u001b[K     |██████████████████▉             | 532kB 5.9MB/s eta 0:00:01\r\u001b[K     |███████████████████▏            | 542kB 5.9MB/s eta 0:00:01\r\u001b[K     |███████████████████▋            | 552kB 5.9MB/s eta 0:00:01\r\u001b[K     |████████████████████            | 563kB 5.9MB/s eta 0:00:01\r\u001b[K     |████████████████████▎           | 573kB 5.9MB/s eta 0:00:01\r\u001b[K     |████████████████████▋           | 583kB 5.9MB/s eta 0:00:01\r\u001b[K     |█████████████████████           | 593kB 5.9MB/s eta 0:00:01\r\u001b[K     |█████████████████████▍          | 604kB 5.9MB/s eta 0:00:01\r\u001b[K     |█████████████████████▊          | 614kB 5.9MB/s eta 0:00:01\r\u001b[K     |██████████████████████          | 624kB 5.9MB/s eta 0:00:01\r\u001b[K     |██████████████████████▌         | 634kB 5.9MB/s eta 0:00:01\r\u001b[K     |██████████████████████▉         | 645kB 5.9MB/s eta 0:00:01\r\u001b[K     |███████████████████████▏        | 655kB 5.9MB/s eta 0:00:01\r\u001b[K     |███████████████████████▌        | 665kB 5.9MB/s eta 0:00:01\r\u001b[K     |████████████████████████        | 675kB 5.9MB/s eta 0:00:01\r\u001b[K     |████████████████████████▎       | 686kB 5.9MB/s eta 0:00:01\r\u001b[K     |████████████████████████▋       | 696kB 5.9MB/s eta 0:00:01\r\u001b[K     |█████████████████████████       | 706kB 5.9MB/s eta 0:00:01\r\u001b[K     |█████████████████████████▍      | 716kB 5.9MB/s eta 0:00:01\r\u001b[K     |█████████████████████████▊      | 727kB 5.9MB/s eta 0:00:01\r\u001b[K     |██████████████████████████      | 737kB 5.9MB/s eta 0:00:01\r\u001b[K     |██████████████████████████▍     | 747kB 5.9MB/s eta 0:00:01\r\u001b[K     |██████████████████████████▉     | 757kB 5.9MB/s eta 0:00:01\r\u001b[K     |███████████████████████████▏    | 768kB 5.9MB/s eta 0:00:01\r\u001b[K     |███████████████████████████▌    | 778kB 5.9MB/s eta 0:00:01\r\u001b[K     |████████████████████████████    | 788kB 5.9MB/s eta 0:00:01\r\u001b[K     |████████████████████████████▎   | 798kB 5.9MB/s eta 0:00:01\r\u001b[K     |████████████████████████████▋   | 808kB 5.9MB/s eta 0:00:01\r\u001b[K     |█████████████████████████████   | 819kB 5.9MB/s eta 0:00:01\r\u001b[K     |█████████████████████████████▍  | 829kB 5.9MB/s eta 0:00:01\r\u001b[K     |█████████████████████████████▊  | 839kB 5.9MB/s eta 0:00:01\r\u001b[K     |██████████████████████████████  | 849kB 5.9MB/s eta 0:00:01\r\u001b[K     |██████████████████████████████▍ | 860kB 5.9MB/s eta 0:00:01\r\u001b[K     |██████████████████████████████▉ | 870kB 5.9MB/s eta 0:00:01\r\u001b[K     |███████████████████████████████▏| 880kB 5.9MB/s eta 0:00:01\r\u001b[K     |███████████████████████████████▌| 890kB 5.9MB/s eta 0:00:01\r\u001b[K     |███████████████████████████████▉| 901kB 5.9MB/s eta 0:00:01\r\u001b[K     |████████████████████████████████| 911kB 5.9MB/s \n",
            "\u001b[?25hRequirement already satisfied: urllib3 in /usr/local/lib/python3.7/dist-packages (from selenium) (1.24.3)\n",
            "Installing collected packages: selenium\n",
            "Successfully installed selenium-3.141.0\n",
            "Get:1 http://security.ubuntu.com/ubuntu bionic-security InRelease [88.7 kB]\n",
            "Get:2 https://cloud.r-project.org/bin/linux/ubuntu bionic-cran40/ InRelease [3,626 B]\n",
            "Ign:3 https://developer.download.nvidia.com/compute/cuda/repos/ubuntu1804/x86_64  InRelease\n",
            "Get:4 http://ppa.launchpad.net/c2d4u.team/c2d4u4.0+/ubuntu bionic InRelease [15.9 kB]\n",
            "Hit:5 http://archive.ubuntu.com/ubuntu bionic InRelease\n",
            "Ign:6 https://developer.download.nvidia.com/compute/machine-learning/repos/ubuntu1804/x86_64  InRelease\n",
            "Get:7 https://developer.download.nvidia.com/compute/cuda/repos/ubuntu1804/x86_64  Release [697 B]\n",
            "Hit:8 https://developer.download.nvidia.com/compute/machine-learning/repos/ubuntu1804/x86_64  Release\n",
            "Get:9 https://developer.download.nvidia.com/compute/cuda/repos/ubuntu1804/x86_64  Release.gpg [836 B]\n",
            "Get:10 http://archive.ubuntu.com/ubuntu bionic-updates InRelease [88.7 kB]\n",
            "Hit:11 http://ppa.launchpad.net/cran/libgit2/ubuntu bionic InRelease\n",
            "Get:12 https://cloud.r-project.org/bin/linux/ubuntu bionic-cran40/ Packages [49.4 kB]\n",
            "Get:13 http://archive.ubuntu.com/ubuntu bionic-backports InRelease [74.6 kB]\n",
            "Hit:14 http://ppa.launchpad.net/deadsnakes/ppa/ubuntu bionic InRelease\n",
            "Get:15 http://security.ubuntu.com/ubuntu bionic-security/main amd64 Packages [1,995 kB]\n",
            "Hit:16 http://ppa.launchpad.net/graphics-drivers/ppa/ubuntu bionic InRelease\n",
            "Get:17 http://security.ubuntu.com/ubuntu bionic-security/universe amd64 Packages [1,398 kB]\n",
            "Get:18 http://security.ubuntu.com/ubuntu bionic-security/restricted amd64 Packages [333 kB]\n",
            "Ign:20 https://developer.download.nvidia.com/compute/cuda/repos/ubuntu1804/x86_64  Packages\n",
            "Get:20 https://developer.download.nvidia.com/compute/cuda/repos/ubuntu1804/x86_64  Packages [603 kB]\n",
            "Get:21 http://ppa.launchpad.net/c2d4u.team/c2d4u4.0+/ubuntu bionic/main Sources [1,746 kB]\n",
            "Get:22 http://archive.ubuntu.com/ubuntu bionic-updates/restricted amd64 Packages [363 kB]\n",
            "Get:23 http://archive.ubuntu.com/ubuntu bionic-updates/universe amd64 Packages [2,165 kB]\n",
            "Get:24 http://ppa.launchpad.net/c2d4u.team/c2d4u4.0+/ubuntu bionic/main amd64 Packages [894 kB]\n",
            "Get:25 http://archive.ubuntu.com/ubuntu bionic-updates/main amd64 Packages [2,425 kB]\n",
            "Fetched 12.2 MB in 3s (3,762 kB/s)\n",
            "Reading package lists... Done\n",
            "Reading package lists... Done\n",
            "Building dependency tree       \n",
            "Reading state information... Done\n",
            "The following additional packages will be installed:\n",
            "  chromium-browser chromium-browser-l10n chromium-codecs-ffmpeg-extra\n",
            "Suggested packages:\n",
            "  webaccounts-chromium-extension unity-chromium-extension\n",
            "The following NEW packages will be installed:\n",
            "  chromium-browser chromium-browser-l10n chromium-chromedriver\n",
            "  chromium-codecs-ffmpeg-extra\n",
            "0 upgraded, 4 newly installed, 0 to remove and 49 not upgraded.\n",
            "Need to get 83.2 MB of archives.\n",
            "After this operation, 282 MB of additional disk space will be used.\n",
            "Get:1 http://archive.ubuntu.com/ubuntu bionic-updates/universe amd64 chromium-codecs-ffmpeg-extra amd64 89.0.4389.82-0ubuntu0.18.04.1 [1,127 kB]\n",
            "Get:2 http://archive.ubuntu.com/ubuntu bionic-updates/universe amd64 chromium-browser amd64 89.0.4389.82-0ubuntu0.18.04.1 [73.6 MB]\n",
            "Get:3 http://archive.ubuntu.com/ubuntu bionic-updates/universe amd64 chromium-browser-l10n all 89.0.4389.82-0ubuntu0.18.04.1 [3,800 kB]\n",
            "Get:4 http://archive.ubuntu.com/ubuntu bionic-updates/universe amd64 chromium-chromedriver amd64 89.0.4389.82-0ubuntu0.18.04.1 [4,697 kB]\n",
            "Fetched 83.2 MB in 3s (24.3 MB/s)\n",
            "Selecting previously unselected package chromium-codecs-ffmpeg-extra.\n",
            "(Reading database ... 160975 files and directories currently installed.)\n",
            "Preparing to unpack .../chromium-codecs-ffmpeg-extra_89.0.4389.82-0ubuntu0.18.04.1_amd64.deb ...\n",
            "Unpacking chromium-codecs-ffmpeg-extra (89.0.4389.82-0ubuntu0.18.04.1) ...\n",
            "Selecting previously unselected package chromium-browser.\n",
            "Preparing to unpack .../chromium-browser_89.0.4389.82-0ubuntu0.18.04.1_amd64.deb ...\n",
            "Unpacking chromium-browser (89.0.4389.82-0ubuntu0.18.04.1) ...\n",
            "Selecting previously unselected package chromium-browser-l10n.\n",
            "Preparing to unpack .../chromium-browser-l10n_89.0.4389.82-0ubuntu0.18.04.1_all.deb ...\n",
            "Unpacking chromium-browser-l10n (89.0.4389.82-0ubuntu0.18.04.1) ...\n",
            "Selecting previously unselected package chromium-chromedriver.\n",
            "Preparing to unpack .../chromium-chromedriver_89.0.4389.82-0ubuntu0.18.04.1_amd64.deb ...\n",
            "Unpacking chromium-chromedriver (89.0.4389.82-0ubuntu0.18.04.1) ...\n",
            "Setting up chromium-codecs-ffmpeg-extra (89.0.4389.82-0ubuntu0.18.04.1) ...\n",
            "Setting up chromium-browser (89.0.4389.82-0ubuntu0.18.04.1) ...\n",
            "update-alternatives: using /usr/bin/chromium-browser to provide /usr/bin/x-www-browser (x-www-browser) in auto mode\n",
            "update-alternatives: using /usr/bin/chromium-browser to provide /usr/bin/gnome-www-browser (gnome-www-browser) in auto mode\n",
            "Setting up chromium-chromedriver (89.0.4389.82-0ubuntu0.18.04.1) ...\n",
            "Setting up chromium-browser-l10n (89.0.4389.82-0ubuntu0.18.04.1) ...\n",
            "Processing triggers for man-db (2.8.3-2ubuntu0.1) ...\n",
            "Processing triggers for hicolor-icon-theme (0.17-2) ...\n",
            "Processing triggers for mime-support (3.60ubuntu1) ...\n",
            "Processing triggers for libc-bin (2.27-3ubuntu1.2) ...\n",
            "/sbin/ldconfig.real: /usr/local/lib/python3.7/dist-packages/ideep4py/lib/libmkldnn.so.0 is not a symbolic link\n",
            "\n",
            "cp: '/usr/lib/chromium-browser/chromedriver' and '/usr/bin/chromedriver' are the same file\n"
          ],
          "name": "stdout"
        }
      ]
    },
    {
      "cell_type": "markdown",
      "metadata": {
        "id": "kuhZcDh4UHYp"
      },
      "source": [
        "And now we will import some modules on our Notebook\n",
        "\n",
        "\n",
        "1.   sys: to setup the path of chrome driver\n",
        "2.   selenium: to emulate the user behaviour\n",
        "3.   pandas: to work with data\n",
        "4.   tqdm: to show a progress bar in our notebook\n",
        "5.   json: to work with json format\n",
        "\n",
        "\n",
        "\n"
      ]
    },
    {
      "cell_type": "code",
      "metadata": {
        "id": "YRt5yEXxA-jW"
      },
      "source": [
        "import sys\n",
        "sys.path.insert(0,'/usr/lib/chromium-browser/chromedriver')\n",
        "from selenium import webdriver\n",
        "from tqdm import tqdm_notebook as tqdm\n",
        "import pandas\n",
        "import json\n",
        "import pprint"
      ],
      "execution_count": 2,
      "outputs": []
    },
    {
      "cell_type": "markdown",
      "metadata": {
        "id": "ksyefP35VQc2"
      },
      "source": [
        "First we need to set the options for the ghost browser.\n",
        "The most important is `--headless` because we are in a \"cloud\" notebook. In our local notebook we can remove the `--headless` option.  \n"
      ]
    },
    {
      "cell_type": "code",
      "metadata": {
        "id": "DTfvdy_gBCBU"
      },
      "source": [
        "chrome_options = webdriver.ChromeOptions()\n",
        "chrome_options.add_argument('--headless')\n",
        "chrome_options.add_argument('--no-sandbox')\n",
        "chrome_options.add_argument('--disable-dev-shm-usage')\n",
        "chrome_options.add_argument(\"window-size=1900,800\")\n",
        "chrome_options.add_argument(\"--enable-javascript\")\n",
        "chrome_options.add_argument(\"user-agent=Mozilla/5.0 (Windows NT 10.0; Win64; x64) AppleWebKit/537.36 (KHTML, like Gecko) Chrome/88.0.4324.150 Safari/537.36\")"
      ],
      "execution_count": 3,
      "outputs": []
    },
    {
      "cell_type": "markdown",
      "metadata": {
        "id": "0DpumOn7VoFw"
      },
      "source": [
        "`webdriver` is the most importa object in Selenium.\n",
        "With `webdriver` we can start the phantom browser, emulate the user navigation and scrape our data. \n",
        "\n",
        "Let’s now create a new instance of google chrome.\n",
        "\n",
        "\n",
        "We will navitage to page by a `get` request. With http we can do a get or a post (or others but they are not important for us): https://www.w3schools.com/tags/ref_httpmethods.asp \n",
        "\n",
        "\n",
        "\n",
        "```\n",
        "wd.get(\"https://www.paginegialle.it/ricerca/ceramica\")\n",
        "```\n",
        "\n"
      ]
    },
    {
      "cell_type": "code",
      "metadata": {
        "id": "D6MLvqs9BIzI",
        "colab": {
          "base_uri": "https://localhost:8080/"
        },
        "outputId": "f15d9d9b-1d88-4ec0-f256-579d27a4a95c"
      },
      "source": [
        "wd = webdriver.Chrome('chromedriver',chrome_options=chrome_options)\n",
        "wd.get(\"https://www.paginegialle.it/ricerca/ceramica\")"
      ],
      "execution_count": 15,
      "outputs": [
        {
          "output_type": "stream",
          "text": [
            "/usr/local/lib/python3.7/dist-packages/ipykernel_launcher.py:1: DeprecationWarning: use options instead of chrome_options\n",
            "  \"\"\"Entry point for launching an IPython kernel.\n"
          ],
          "name": "stderr"
        }
      ]
    },
    {
      "cell_type": "markdown",
      "metadata": {
        "id": "p3Sbfud-WbV-"
      },
      "source": [
        "Take a look to the screenshot from our phantom browser.\n",
        "\n",
        "Note:\n",
        "- la language and the locale: It is en_US!\n",
        "- the screen ration: is it the same of our notebook?"
      ]
    },
    {
      "cell_type": "code",
      "metadata": {
        "id": "iBCZSC4dWfKW",
        "colab": {
          "base_uri": "https://localhost:8080/",
          "height": 210
        },
        "outputId": "075a9025-df2b-45f2-9c55-2acea95ba3dd"
      },
      "source": [
        "wd.save_screenshot('screenshot.png')\n",
        "\n",
        "%pylab inline\n",
        "import matplotlib.pyplot as plt\n",
        "import matplotlib.image as mpimg\n",
        "img=mpimg.imread('/content/screenshot.png')\n",
        "imgplot = plt.imshow(img)\n",
        "plt.show()"
      ],
      "execution_count": 5,
      "outputs": [
        {
          "output_type": "stream",
          "text": [
            "Populating the interactive namespace from numpy and matplotlib\n"
          ],
          "name": "stdout"
        },
        {
          "output_type": "display_data",
          "data": {
            "image/png": "[encoded data removed]",
            "text/plain": [
              "<Figure size 432x288 with 1 Axes>"
            ]
          },
          "metadata": {
            "tags": [],
            "needs_background": "light"
          }
        }
      ]
    },
    {
      "cell_type": "markdown",
      "metadata": {
        "id": "QV7mMMKn8kbx"
      },
      "source": [
        "Click on cookie accept button"
      ]
    },
    {
      "cell_type": "code",
      "metadata": {
        "id": "0yURJOQW8kDU"
      },
      "source": [
        "wd.find_elements_by_css_selector(\"button.iubenda-cs-customize-btn\")[0].click()"
      ],
      "execution_count": 6,
      "outputs": []
    },
    {
      "cell_type": "markdown",
      "metadata": {
        "id": "kRr2IAQsa1s_"
      },
      "source": [
        "Let's try to extract some information from the page\n",
        "\n",
        "\n",
        "\n",
        "`title` contains the title of our page.\n",
        "\n",
        "\n"
      ]
    },
    {
      "cell_type": "code",
      "metadata": {
        "id": "X033nUzra6uq",
        "colab": {
          "base_uri": "https://localhost:8080/"
        },
        "outputId": "1280b9be-c049-42e8-c6a9-173f83d035e4"
      },
      "source": [
        "print(wd.title)"
      ],
      "execution_count": 7,
      "outputs": [
        {
          "output_type": "stream",
          "text": [
            "Ceramica | PagineGialle.it\n"
          ],
          "name": "stdout"
        }
      ]
    },
    {
      "cell_type": "markdown",
      "metadata": {
        "id": "zK7Cf_mradiL"
      },
      "source": [
        "### How do we extract the values inside a page with CSS Selector?\n",
        "\n",
        "Selenium has a method called `find_elements_by_css_selector`.\n",
        "\n",
        "We will pass our CSS Selector into this method and get a list of selenium elements. Once we have the element, we can extract the text inside it using the `text` function."
      ]
    },
    {
      "cell_type": "code",
      "metadata": {
        "id": "WFuRVKIdbWN3",
        "colab": {
          "base_uri": "https://localhost:8080/"
        },
        "outputId": "d383e7fd-6d50-47eb-a61f-23848b107cf6"
      },
      "source": [
        "list_companies = wd.find_elements_by_css_selector(\"h2.itemTitle\")\n",
        "print(len(list_companies))"
      ],
      "execution_count": 8,
      "outputs": [
        {
          "output_type": "stream",
          "text": [
            "20\n"
          ],
          "name": "stdout"
        }
      ]
    },
    {
      "cell_type": "code",
      "metadata": {
        "id": "cRPP5xUrbwcE",
        "colab": {
          "base_uri": "https://localhost:8080/"
        },
        "outputId": "4ab06b6c-9f47-4c67-e5f9-815b5ec3d886"
      },
      "source": [
        "print(list_companies[0].text)"
      ],
      "execution_count": 9,
      "outputs": [
        {
          "output_type": "stream",
          "text": [
            "BITONTI CERAMICHE LA CERAMICA\n"
          ],
          "name": "stdout"
        }
      ]
    },
    {
      "cell_type": "markdown",
      "metadata": {
        "id": "A1ETBqlPcQhl"
      },
      "source": [
        "# Extract the companies list\n",
        "\n",
        "Let's begin to download the list of companies.\n",
        "\n",
        "The list of companies is defined by the css selection rule\n",
        "`section.vcard`\n",
        "\n"
      ]
    },
    {
      "cell_type": "code",
      "metadata": {
        "id": "_V1hNO9ZcJy6",
        "colab": {
          "base_uri": "https://localhost:8080/"
        },
        "outputId": "0e583a25-aeda-40fb-bc39-9bb48eacbd0d"
      },
      "source": [
        "list_companies = wd.find_elements_by_css_selector(\"section.vcard\")\n",
        "print(len(list_companies))"
      ],
      "execution_count": 10,
      "outputs": [
        {
          "output_type": "stream",
          "text": [
            "20\n"
          ],
          "name": "stdout"
        }
      ]
    },
    {
      "cell_type": "markdown",
      "metadata": {
        "id": "k_fSFWX0cktI"
      },
      "source": [
        "Gread! We find 10 items!\n",
        "\n",
        "Now, we will extract the attribute from each single element.\n",
        "The scope is to create one dict for each item in the list with the attribute:\n",
        "\n",
        "\n",
        "1.   company name\n",
        "2.   link to the detail page\n",
        "3.   number of employees\n",
        "4.   vat code\n",
        "5.   economic sector\n",
        "6.   tags\n",
        "\n"
      ]
    },
    {
      "cell_type": "code",
      "metadata": {
        "id": "1J2xAL6qcj9-",
        "colab": {
          "base_uri": "https://localhost:8080/"
        },
        "outputId": "1ea1d105-2160-4b7e-e7b8-1db3f99d4291"
      },
      "source": [
        "import pprint\n",
        "import time\n",
        "items = []\n",
        "for item in list_companies:\n",
        "    company_name = item.find_elements_by_css_selector(\"h2.itemTitle\")[0].text\n",
        "    url = item.find_elements_by_css_selector(\"a.icn-vetrina\")[0].get_attribute(\"href\")\n",
        "\n",
        "    items.append({'company_name': company_name,\n",
        "                  'url': url})\n",
        "\n",
        "\n",
        "pprint.pprint(items[0:5])"
      ],
      "execution_count": 11,
      "outputs": [
        {
          "output_type": "stream",
          "text": [
            "[{'company_name': 'BITONTI CERAMICHE LA CERAMICA',\n",
            "  'url': 'https://www.paginegialle.it/laceramicabitonti'},\n",
            " {'company_name': 'THOMAS HOFER',\n",
            "  'url': 'https://www.paginegialle.it/hoferthomas'},\n",
            " {'company_name': 'SIL.MAR CERAMICHE',\n",
            "  'url': 'https://www.paginegialle.it/silmarceramiche-vr'},\n",
            " {'company_name': 'CINI ARREDO BAGNO',\n",
            "  'url': 'https://www.paginegialle.it/ciniromano'},\n",
            " {'company_name': 'C.E.P.I.R. SOC. COOP.',\n",
            "  'url': 'https://www.paginegialle.it/cepir'}]\n"
          ],
          "name": "stdout"
        }
      ]
    },
    {
      "cell_type": "markdown",
      "metadata": {
        "id": "NgvnPlxqBpP4"
      },
      "source": [
        "Get the list of the first 100 companies"
      ]
    },
    {
      "cell_type": "code",
      "metadata": {
        "colab": {
          "base_uri": "https://localhost:8080/"
        },
        "id": "OkoyTU9TI3QW",
        "outputId": "2fb8df21-bc08-4fcc-d092-8d7200839469"
      },
      "source": [
        "import math\n",
        "wd.get(\"https://www.paginegialle.it/ricerca/ceramica/Italia/p-1\")\n",
        "total_items = wd.find_elements_by_css_selector('span.searchResNum span')[0].text\n",
        "page_total = math.ceil(int(total_items) / 20)\n",
        "print(page_total)"
      ],
      "execution_count": 12,
      "outputs": [
        {
          "output_type": "stream",
          "text": [
            "407\n"
          ],
          "name": "stdout"
        }
      ]
    },
    {
      "cell_type": "code",
      "metadata": {
        "id": "TXEFPcS0_1du"
      },
      "source": [
        "items = []\n",
        "for page in range(1, 16):\n",
        "  wd.get(f\"https://www.paginegialle.it/ricerca/ceramica/Italia/p-{page}\")\n",
        "  time.sleep(1)\n",
        "  list_companies = wd.find_elements_by_css_selector(\"section.vcard\")\n",
        "  for item in list_companies:\n",
        "    company_name = item.find_elements_by_css_selector(\"h2.itemTitle\")[0].text\n",
        "    url = item.find_elements_by_css_selector(\"a.icn-vetrina\")[0].get_attribute(\"href\")\n",
        "    items.append({'company_name': company_name,\n",
        "                  'url': url})"
      ],
      "execution_count": 16,
      "outputs": []
    },
    {
      "cell_type": "markdown",
      "metadata": {
        "id": "w6o9zLQBBwRP"
      },
      "source": [
        "Check the list returned by our scraper:"
      ]
    },
    {
      "cell_type": "code",
      "metadata": {
        "id": "d0-ystf3VAY0",
        "colab": {
          "base_uri": "https://localhost:8080/"
        },
        "outputId": "97f33a25-2e86-4a23-ef4e-c4e144ed7400"
      },
      "source": [
        "len(items)"
      ],
      "execution_count": 17,
      "outputs": [
        {
          "output_type": "execute_result",
          "data": {
            "text/plain": [
              "300"
            ]
          },
          "metadata": {
            "tags": []
          },
          "execution_count": 17
        }
      ]
    },
    {
      "cell_type": "code",
      "metadata": {
        "colab": {
          "base_uri": "https://localhost:8080/"
        },
        "id": "pduDvl8BA0e1",
        "outputId": "b7bd87e1-ef42-4192-c48d-b1cd3d6ff86e"
      },
      "source": [
        "pprint.pprint(items[90:95])"
      ],
      "execution_count": 18,
      "outputs": [
        {
          "output_type": "stream",
          "text": [
            "[{'company_name': 'MARTINELLI LEOPOLDO',\n",
            "  'url': 'https://www.paginegialle.it/martinellileopoldosrl'},\n",
            " {'company_name': 'CERAMICHE GARUTI',\n",
            "  'url': 'https://www.paginegialle.it/ceramichegaruti'},\n",
            " {'company_name': 'NUOVA O.M.C.',\n",
            "  'url': 'https://www.paginegialle.it/nuovaomcattrezzatureceramiche'},\n",
            " {'company_name': 'CERAMICHE DELLA MADDALENA LINO',\n",
            "  'url': 'https://www.paginegialle.it/dellamaddalenalino'},\n",
            " {'company_name': 'NUOVA SIMA SPA',\n",
            "  'url': 'https://www.paginegialle.it/nuovasimaspa'}]\n"
          ],
          "name": "stdout"
        }
      ]
    },
    {
      "cell_type": "markdown",
      "metadata": {
        "id": "0oakp01EBza0"
      },
      "source": [
        "Navigate to each detail page and get the details"
      ]
    },
    {
      "cell_type": "code",
      "metadata": {
        "colab": {
          "base_uri": "https://localhost:8080/",
          "height": 116,
          "referenced_widgets": [
            "007167e7bb33479aa4d9f56bb356157f",
            "d70fe51185e4491ea62ccf92b730b441",
            "6553dfabf1254c7db1d7b23f374e8c3a",
            "f11ba03dea854fa4ad8f8ba336c4e02f",
            "da31e6b42234430d8752643d2522f1ae",
            "b5010fa144c24452bb5a700547d28cc0",
            "564bb5cb57124693a094e6a4a0f2aa5e",
            "f5dca2a7c0ec43a7a0d87d50f664dd4f"
          ]
        },
        "id": "552PDNctBDWr",
        "outputId": "ba72cf76-1c86-45f6-ae7b-59c7df83d077"
      },
      "source": [
        "details = []\n",
        "for item in tqdm(items):\n",
        "  wd.get(item['url'])\n",
        "  # print(item['url'])\n",
        "  time.sleep(1)\n",
        "\n",
        "  description = wd.find_elements_by_css_selector(\"#descrizioneAzienda\")[0].text\n",
        "  abstract = \"\"\n",
        "  try:\n",
        "    abstract = wd.find_elements_by_css_selector(\"h2.dsabstract\")[0].text\n",
        "  except:\n",
        "    abstract = \"\"\n",
        "  wd.find_elements_by_css_selector('.btn-show-phone')[0].click()\n",
        "  phone = wd.find_elements_by_css_selector('span.tel')[0].text\n",
        "  url = \"\"\n",
        "  try:\n",
        "    url = wd.find_elements_by_css_selector(\"a.icn-sitoWeb\")[0].get_attribute(\"href\")\n",
        "  except:\n",
        "    url = item['url']\n",
        "  address = wd.find_elements_by_css_selector('div.street-address')[0].text\n",
        "  altre_informazioni = wd.find_elements_by_css_selector(\"section.altre-info-azienda div\")\n",
        "  vat_code = \"\"\n",
        "  for box in altre_informazioni:\n",
        "    if 'Partita IVA' in box.text:\n",
        "      vat_code = box.find_elements_by_css_selector(\"span\")[0].text\n",
        "  company_name = item['company_name']\n",
        "  \n",
        "  details.append({'company_name': company_name,\n",
        "                  'address': address,\n",
        "                  'phone': phone,\n",
        "                  'description': description,\n",
        "                  'vat_code': vat_code,\n",
        "                  'abstract': abstract,\n",
        "                  'url': url})\n"
      ],
      "execution_count": 20,
      "outputs": [
        {
          "output_type": "stream",
          "text": [
            "/usr/local/lib/python3.7/dist-packages/ipykernel_launcher.py:2: TqdmDeprecationWarning: This function will be removed in tqdm==5.0.0\n",
            "Please use `tqdm.notebook.tqdm` instead of `tqdm.tqdm_notebook`\n",
            "  \n"
          ],
          "name": "stderr"
        },
        {
          "output_type": "display_data",
          "data": {
            "application/vnd.jupyter.widget-view+json": {
              "model_id": "007167e7bb33479aa4d9f56bb356157f",
              "version_minor": 0,
              "version_major": 2
            },
            "text/plain": [
              "HBox(children=(FloatProgress(value=0.0, max=300.0), HTML(value='')))"
            ]
          },
          "metadata": {
            "tags": []
          }
        },
        {
          "output_type": "stream",
          "text": [
            "\n"
          ],
          "name": "stdout"
        }
      ]
    },
    {
      "cell_type": "code",
      "metadata": {
        "colab": {
          "base_uri": "https://localhost:8080/"
        },
        "id": "ZYKijANaDZX_",
        "outputId": "3fda5d22-f2c9-4801-f6ff-de4639756832"
      },
      "source": [
        "pprint.pprint(details[0:5])"
      ],
      "execution_count": 21,
      "outputs": [
        {
          "output_type": "stream",
          "text": [
            "[{'abstract': 'Forniamo ad artigiani e privati un vasto assortimento di '\n",
            "              'accessori e mobili da bagno, ceramiche, piastrelle per '\n",
            "              'pavimenti e rivestimenti a Bibbiena.',\n",
            "  'address': 'Via San Francesco Loc Partina - 52011 Bibbiena (AR)',\n",
            "  'company_name': 'EDIL CASA',\n",
            "  'description': 'La nostra azienda, a conduzione familiare, dal 1980 è in '\n",
            "                 'grado di fornire a privati ed artigiani una vasta scelta di '\n",
            "                 'prodotti per la rifinizione e arredamento della casa. '\n",
            "                 'Accessori e mobili da bagno, ceramiche e piastrelle per '\n",
            "                 'pavimenti e rivestimenti, rubinetterie ed accessori, '\n",
            "                 'caminetti e stufe... Vi aspettiamo perché siamo in grado, '\n",
            "                 'con disponibilità e cortesia, di rispondere ad ogni tipo di '\n",
            "                 'richiesta.',\n",
            "  'phone': '0575 560321',\n",
            "  'url': 'https://www.edilcasapavimentirivestimenticaminetti.com/',\n",
            "  'vat_code': '01162210510'},\n",
            " {'abstract': 'Thomas Hofer è specializzato in stufe nella strada S. Antonio '\n",
            "              'ad Appiano Sulla Strada del Vino.',\n",
            "  'address': 'Strada S. Antonio, 23/B - 39057 Appiano sulla Strada del Vino '\n",
            "             '(BZ)',\n",
            "  'company_name': 'THOMAS HOFER',\n",
            "  'description': \"La stufa in maiolica è l'unico mezzo di riscaldamento che \"\n",
            "                 'coniuga tradizione e innovazione. Molti i vantaggi: calore '\n",
            "                 'naturale e sano; ecologia e risparmio energetico, grazie '\n",
            "                 \"all'utilizzo della legna; design e creazione di un elemento \"\n",
            "                 \"d'arredo personalizzato e adattabile all'ambiente di casa; \"\n",
            "                 'benessere, derivante dal calore piacevole e uniforme. La '\n",
            "                 'ditta HOFER progetta e monta stufe su misura, cucine, '\n",
            "                 'caminetti.',\n",
            "  'phone': '335 7591738',\n",
            "  'url': 'http://www.kachelofen-hofer.com/',\n",
            "  'vat_code': '01420450213'},\n",
            " {'abstract': \"Sil.Mar prodotti per il bagno, dagli idrosanitari all'arredo \"\n",
            "              'bagno più raffinato, dalla termoidraulica ai complementi a '\n",
            "              'Roveredo di Guà, in provincia di Verona.',\n",
            "  'address': 'Via Masero, 14 - 37040 Roveredo di Guà (VR)',\n",
            "  'company_name': 'SIL.MAR CERAMICHE',\n",
            "  'description': 'Una giovane azienda operante nel settore, specializzata '\n",
            "                 'nella commercializzazione, posa di pavimenti in ceramica e '\n",
            "                 'legno e nei rivestinti in ceramica. La qualità è assicurata '\n",
            "                 'dalla collaborazione con alcune delle migliori aziende '\n",
            "                 \"produttrici, unita alla professionalità e all'esperienza del \"\n",
            "                 'personale addetto alle vendite e alla consulenza, '\n",
            "                 \"rappresenta il punto di forza dell'azienda.\",\n",
            "  'phone': '0442 86229',\n",
            "  'url': 'https://www.paginegialle.it/silmarceramiche-vr',\n",
            "  'vat_code': '03925200234'},\n",
            " {'abstract': 'A Venezia si trova Cini Arredo Bagno specializzata nella '\n",
            "              'vendita e installazione di articoli idrosanitari di prima '\n",
            "              'qualità.',\n",
            "  'address': 'Dorsoduro, 3108 - 30123 Venezia (VE)',\n",
            "  'company_name': 'CINI ARREDO BAGNO',\n",
            "  'description': 'Fondata nel 1988 a Venezia da Romano Cini come nuova '\n",
            "                 \"gestione, l'attività vanta tuttavia cinquant'anni di \"\n",
            "                 \"esperienza nel settore idrosanitario. L'azienda, a \"\n",
            "                 'conduzione familiare, si rivolge principalmente a privati e '\n",
            "                 'installatori di materiale idraulico proponendo una ricca '\n",
            "                 'varietà di servizi e prodotti affidabili e di prima qualità. '\n",
            "                 'La ditta ha sviluppato durante gli anni di attività '\n",
            "                 'competenze sempre più mirate e specifiche e ha migliorato '\n",
            "                 'progressivamente i propri servizi, diventando un valido e '\n",
            "                 'importante punto di riferimento per il settore idrosanitario '\n",
            "                 'e non solo.',\n",
            "  'phone': '041 5235317',\n",
            "  'url': 'https://www.ciniarredobagno.it/',\n",
            "  'vat_code': '02263160273'},\n",
            " {'abstract': 'Il consorzio C.E.P.I.R. si occupa di fornire e installare '\n",
            "              \"rivestimenti in materiale refrattario, ad Anzola Dell'Emilia \"\n",
            "              '(RE) in v. Mazzoni 16/b.',\n",
            "  'address': \"Via Mazzoni, 16/B - 40011 Anzola dell'Emilia (BO)\",\n",
            "  'company_name': 'C.E.P.I.R. SOC. COOP.',\n",
            "  'description': 'Il consorzio C.E.P.I.R. certificato ISO 9001:2015, si occupa '\n",
            "                 'di installazione di materiali refrattari, è formato da '\n",
            "                 'artigiani fornellisti, altamente qualificati ed opera ormai '\n",
            "                 'da diversi anni nel settore rivestimenti refrattari, in '\n",
            "                 'particolare su forni calce, ciminiere industriali, caldaie; '\n",
            "                 'forni incenerimento rifiuti urbani, ceramiche, laterizi, '\n",
            "                 'trattamenti termici e forni fusori per colorifici. '\n",
            "                 'Commercializza, inoltre, diverse tipologie di materiali '\n",
            "                 'refrattari e affini, fornendo un global service, per '\n",
            "                 'soddisfare tutte le esigenze di fornitura ed installazione '\n",
            "                 'dei suddetti nelle più svariate tipologie.',\n",
            "  'phone': '051 733988',\n",
            "  'url': 'http://www.cepirscrl.com/?page_id=11',\n",
            "  'vat_code': '04333610378'}]\n"
          ],
          "name": "stdout"
        }
      ]
    },
    {
      "cell_type": "markdown",
      "metadata": {
        "id": "TqxsicNNovfy"
      },
      "source": [
        "# Pandas and data processing\n",
        "\n",
        "**Well!**\n",
        "We're starting to see another amazing library for working with data!\n",
        "\n",
        "It's **pandas**: *Python library for data analysis*.\n",
        "\n",
        "Basically, with pandas we can manipulate a data set or a historical series in Python.\n",
        "\n",
        "For now, we start to give a couple of concepts.\n",
        "\n",
        "Pandas is based on two types of data: **Series** and **DataFrame**:\n",
        "- `Series` represents a list of data\n",
        "- `DataFrame` represent a data set in tabular format\n",
        "\n",
        "Each column of a `DataFrame` is a `Series`.\n",
        "\n",
        "We can create a `DataFrame` using the `pd.DataFrame` method by passing our dictionary as an input parameter.\n",
        "\n",
        "A `DataFrame` pandas can be easily exported in *CSV*, *Excel*, ...\n",
        "\n",
        "For more information about `Pandas` see\n",
        "\n",
        "https://pandas.pydata.org/getting_started.html\n"
      ]
    },
    {
      "cell_type": "code",
      "metadata": {
        "id": "MumFgyNypoBo",
        "colab": {
          "base_uri": "https://localhost:8080/",
          "height": 363
        },
        "outputId": "f8a14ab3-d1dd-41b0-9fa6-763b89af2861"
      },
      "source": [
        "import pandas as pd\n",
        "ds_items = pd.DataFrame(details)\n",
        "ds_items.set_index(\"vat_code\")\n",
        "ds_items.head()"
      ],
      "execution_count": 22,
      "outputs": [
        {
          "output_type": "execute_result",
          "data": {
            "text/html": [
              "<div>\n",
              "<style scoped>\n",
              "    .dataframe tbody tr th:only-of-type {\n",
              "        vertical-align: middle;\n",
              "    }\n",
              "\n",
              "    .dataframe tbody tr th {\n",
              "        vertical-align: top;\n",
              "    }\n",
              "\n",
              "    .dataframe thead th {\n",
              "        text-align: right;\n",
              "    }\n",
              "</style>\n",
              "<table border=\"1\" class=\"dataframe\">\n",
              "  <thead>\n",
              "    <tr style=\"text-align: right;\">\n",
              "      <th></th>\n",
              "      <th>company_name</th>\n",
              "      <th>address</th>\n",
              "      <th>phone</th>\n",
              "      <th>description</th>\n",
              "      <th>vat_code</th>\n",
              "      <th>abstract</th>\n",
              "      <th>url</th>\n",
              "    </tr>\n",
              "  </thead>\n",
              "  <tbody>\n",
              "    <tr>\n",
              "      <th>0</th>\n",
              "      <td>EDIL CASA</td>\n",
              "      <td>Via San Francesco Loc Partina - 52011 Bibbiena...</td>\n",
              "      <td>0575 560321</td>\n",
              "      <td>La nostra azienda, a conduzione familiare, dal...</td>\n",
              "      <td>01162210510</td>\n",
              "      <td>Forniamo ad artigiani e privati un vasto assor...</td>\n",
              "      <td>https://www.edilcasapavimentirivestimenticamin...</td>\n",
              "    </tr>\n",
              "    <tr>\n",
              "      <th>1</th>\n",
              "      <td>THOMAS HOFER</td>\n",
              "      <td>Strada S. Antonio, 23/B - 39057 Appiano sulla ...</td>\n",
              "      <td>335 7591738</td>\n",
              "      <td>La stufa in maiolica è l'unico mezzo di riscal...</td>\n",
              "      <td>01420450213</td>\n",
              "      <td>Thomas Hofer è specializzato in stufe nella st...</td>\n",
              "      <td>http://www.kachelofen-hofer.com/</td>\n",
              "    </tr>\n",
              "    <tr>\n",
              "      <th>2</th>\n",
              "      <td>SIL.MAR CERAMICHE</td>\n",
              "      <td>Via Masero, 14 - 37040 Roveredo di Guà (VR)</td>\n",
              "      <td>0442 86229</td>\n",
              "      <td>Una giovane azienda operante nel settore, spec...</td>\n",
              "      <td>03925200234</td>\n",
              "      <td>Sil.Mar prodotti per il bagno, dagli idrosanit...</td>\n",
              "      <td>https://www.paginegialle.it/silmarceramiche-vr</td>\n",
              "    </tr>\n",
              "    <tr>\n",
              "      <th>3</th>\n",
              "      <td>CINI ARREDO BAGNO</td>\n",
              "      <td>Dorsoduro, 3108 - 30123 Venezia (VE)</td>\n",
              "      <td>041 5235317</td>\n",
              "      <td>Fondata nel 1988 a Venezia da Romano Cini come...</td>\n",
              "      <td>02263160273</td>\n",
              "      <td>A Venezia si trova Cini Arredo Bagno specializ...</td>\n",
              "      <td>https://www.ciniarredobagno.it/</td>\n",
              "    </tr>\n",
              "    <tr>\n",
              "      <th>4</th>\n",
              "      <td>C.E.P.I.R. SOC. COOP.</td>\n",
              "      <td>Via Mazzoni, 16/B - 40011 Anzola dell'Emilia (BO)</td>\n",
              "      <td>051 733988</td>\n",
              "      <td>Il consorzio C.E.P.I.R. certificato ISO 9001:2...</td>\n",
              "      <td>04333610378</td>\n",
              "      <td>Il consorzio C.E.P.I.R. si occupa di fornire e...</td>\n",
              "      <td>http://www.cepirscrl.com/?page_id=11</td>\n",
              "    </tr>\n",
              "  </tbody>\n",
              "</table>\n",
              "</div>"
            ],
            "text/plain": [
              "            company_name  ...                                                url\n",
              "0              EDIL CASA  ...  https://www.edilcasapavimentirivestimenticamin...\n",
              "1           THOMAS HOFER  ...                   http://www.kachelofen-hofer.com/\n",
              "2      SIL.MAR CERAMICHE  ...     https://www.paginegialle.it/silmarceramiche-vr\n",
              "3      CINI ARREDO BAGNO  ...                    https://www.ciniarredobagno.it/\n",
              "4  C.E.P.I.R. SOC. COOP.  ...               http://www.cepirscrl.com/?page_id=11\n",
              "\n",
              "[5 rows x 7 columns]"
            ]
          },
          "metadata": {
            "tags": []
          },
          "execution_count": 22
        }
      ]
    },
    {
      "cell_type": "code",
      "metadata": {
        "id": "Z--9BRv6Jo0W"
      },
      "source": [
        "ds_items.info()"
      ],
      "execution_count": null,
      "outputs": []
    },
    {
      "cell_type": "code",
      "metadata": {
        "id": "3lUw4-_BrQDh"
      },
      "source": [
        "ds_items.to_csv('ds_items.csv')"
      ],
      "execution_count": 24,
      "outputs": []
    }
  ]
}